{
 "cells": [
  {
   "cell_type": "markdown",
   "metadata": {},
   "source": [
    "**Put any package imports you need in the below space**"
   ]
  },
  {
   "cell_type": "code",
   "execution_count": 2,
   "metadata": {},
   "outputs": [],
   "source": [
    "#import matplotlib inline # you will want this if plotting with pyplot\n",
    "%matplotlib inline\n",
    "\n",
    "import matplotlib\n",
    "import numpy as np\n",
    "import matplotlib.pyplot as plt\n",
    "\n",
    "import networkx as nx"
   ]
  },
  {
   "cell_type": "markdown",
   "metadata": {},
   "source": [
    "**Exercise 1**: Generating the adjacency matrix A for graphs of particular type. Write a script that generates the adjacency matrix A for each of the following graphs and prints this matrix onto the screen:\n",
    "1. K5: 5-clique, or a fully connected simple, undirected graph of 5 nodes\n",
    "2. K5.3: two disconnected components, C1 and C2, where C1 is a 5-clique K5 and C2 is a 3-clique K3\n",
    "3. K5.3e: Almost the same as K53 but there is a single edge connecting the two components\n",
    "4. B2.3: Complete bi-partite graph with n1=2 nodes in the first part and n2=3 nodes in the second part\n",
    "5. S5: A 5-vertex star (one central \"hub\" node that connects to all the other \"spoke\" nodes)\n",
    "6. P5: A simple path of 5 vertices\n"
   ]
  },
  {
   "cell_type": "code",
   "execution_count": 3,
   "metadata": {},
   "outputs": [
    {
     "name": "stdout",
     "output_type": "stream",
     "text": [
      "K5 - 5-clique\n",
      "[[0 1 1 1 1]\n",
      " [1 0 1 1 1]\n",
      " [1 1 0 1 1]\n",
      " [1 1 1 0 1]\n",
      " [1 1 1 1 0]]\n",
      "K5.3 - C1 is K5, C2 is K3\n",
      "[[0 1 1 1 1 0 0 0]\n",
      " [1 0 1 1 1 0 0 0]\n",
      " [1 1 0 1 1 0 0 0]\n",
      " [1 1 1 0 1 0 0 0]\n",
      " [1 1 1 1 0 0 0 0]\n",
      " [0 0 0 0 0 0 1 1]\n",
      " [0 0 0 0 0 1 0 1]\n",
      " [0 0 0 0 0 1 1 0]]\n",
      "K5.3e - Edge between C1 and C2 in K5.3\n",
      "[[0 1 1 1 1 0 0 0]\n",
      " [1 0 1 1 1 0 1 0]\n",
      " [1 1 0 1 1 0 0 0]\n",
      " [1 1 1 0 1 0 0 0]\n",
      " [1 1 1 1 0 0 0 0]\n",
      " [0 0 0 0 0 0 1 1]\n",
      " [0 1 0 0 0 1 0 1]\n",
      " [0 0 0 0 0 1 1 0]]\n",
      "B2.3 - Bi-partite graph with n1=2 and n2=3\n",
      "[[0 0 1 1 1]\n",
      " [0 0 1 1 1]\n",
      " [1 1 0 0 0]\n",
      " [1 1 0 0 0]\n",
      " [1 1 0 0 0]]\n",
      "S5 - 5-vertex star\n",
      "[[0 1 1 1 1 1]\n",
      " [1 0 0 0 0 0]\n",
      " [1 0 0 0 0 0]\n",
      " [1 0 0 0 0 0]\n",
      " [1 0 0 0 0 0]\n",
      " [1 0 0 0 0 0]]\n",
      "P5 - Simple path with 5 vertices\n",
      "[[0 1 0 0 0]\n",
      " [1 0 1 0 0]\n",
      " [0 1 0 1 0]\n",
      " [0 0 1 0 1]\n",
      " [0 0 0 1 0]]\n"
     ]
    }
   ],
   "source": [
    "print(\"K5 - 5-clique\")\n",
    "k_5 = nx.complete_graph(5)\n",
    "# nx.draw(k_5)\n",
    "A = nx.adjacency_matrix(k_5)\n",
    "print(A.todense())\n",
    "\n",
    "print(\"K5.3 - C1 is K5, C2 is K3\")\n",
    "k_3 = nx.complete_graph(3)\n",
    "k_5_3 = nx.disjoint_union(k_5, k_3)\n",
    "# nx.draw(k_5_3)\n",
    "B = nx.adjacency_matrix(k_5_3)\n",
    "print(B.todense())\n",
    "\n",
    "print(\"K5.3e - Edge between C1 and C2 in K5.3\")\n",
    "k_5_3e = nx.disjoint_union(k_5, k_3)\n",
    "k_5_3e.add_edge(1,6)\n",
    "# nx.draw(k_5_3e)\n",
    "C = nx.adjacency_matrix(k_5_3e)\n",
    "print(C.todense())\n",
    "\n",
    "print(\"B2.3 - Bi-partite graph with n1=2 and n2=3\")\n",
    "b_2_3 = nx.complete_bipartite_graph(2,3)\n",
    "# nx.draw(b_2_3)\n",
    "D = nx.adjacency_matrix(b_2_3)\n",
    "print(D.todense())\n",
    "\n",
    "print(\"S5 - 5-vertex star\")\n",
    "s_5 = nx.star_graph(5)\n",
    "# nx.draw(s_5)\n",
    "E = nx.adjacency_matrix(s_5)\n",
    "print(E.todense())\n",
    "\n",
    "print(\"P5 - Simple path with 5 vertices\")\n",
    "p_5 = nx.path_graph(5)\n",
    "# nx.draw(p_5)\n",
    "F = nx.adjacency_matrix(p_5)\n",
    "print(F.todense())\n",
    "\n",
    "def print_adjacency_matrix(graph):\n",
    "    print(nx.adjacency_matrix(graph).todense())\n",
    "    \n",
    "graphs = [k_5, k_5_3, k_5_3e, b_2_3, s_5, p_5]"
   ]
  },
  {
   "cell_type": "markdown",
   "metadata": {},
   "source": [
    "**Exercise 2**: Generating the degree matrix D for a given adjacency matrix A. Write a script that generates a degree matrix for each of the adjacency matrices in Exercise 1. Note that the degree matrix is a diagonal matrix where all the positions except for the diagonal are zero's. The diagonal elements correspond to the degrees of the corresponding nodes, namely Dii = degree(v_i)."
   ]
  },
  {
   "cell_type": "code",
   "execution_count": 4,
   "metadata": {},
   "outputs": [
    {
     "name": "stdout",
     "output_type": "stream",
     "text": [
      "[[4 0 0 0 0]\n",
      " [0 4 0 0 0]\n",
      " [0 0 4 0 0]\n",
      " [0 0 0 4 0]\n",
      " [0 0 0 0 4]]\n",
      "[[4 0 0 0 0 0 0 0]\n",
      " [0 4 0 0 0 0 0 0]\n",
      " [0 0 4 0 0 0 0 0]\n",
      " [0 0 0 4 0 0 0 0]\n",
      " [0 0 0 0 4 0 0 0]\n",
      " [0 0 0 0 0 2 0 0]\n",
      " [0 0 0 0 0 0 2 0]\n",
      " [0 0 0 0 0 0 0 2]]\n",
      "[[4 0 0 0 0 0 0 0]\n",
      " [0 5 0 0 0 0 0 0]\n",
      " [0 0 4 0 0 0 0 0]\n",
      " [0 0 0 4 0 0 0 0]\n",
      " [0 0 0 0 4 0 0 0]\n",
      " [0 0 0 0 0 2 0 0]\n",
      " [0 0 0 0 0 0 3 0]\n",
      " [0 0 0 0 0 0 0 2]]\n",
      "[[3 0 0 0 0]\n",
      " [0 3 0 0 0]\n",
      " [0 0 2 0 0]\n",
      " [0 0 0 2 0]\n",
      " [0 0 0 0 2]]\n",
      "[[5 0 0 0 0 0]\n",
      " [0 1 0 0 0 0]\n",
      " [0 0 1 0 0 0]\n",
      " [0 0 0 1 0 0]\n",
      " [0 0 0 0 1 0]\n",
      " [0 0 0 0 0 1]]\n",
      "[[1 0 0 0 0]\n",
      " [0 2 0 0 0]\n",
      " [0 0 2 0 0]\n",
      " [0 0 0 2 0]\n",
      " [0 0 0 0 1]]\n"
     ]
    }
   ],
   "source": [
    "def generate_degree_matrix(graph):\n",
    "    no_of_nodes = graph.number_of_nodes()\n",
    "    node_degrees = list(graph.degree(graph.nodes()).values())\n",
    "    node_degree_array = np.asarray(node_degrees)\n",
    "    identity_matrix = np.eye(no_of_nodes).astype(int)\n",
    "    np.fill_diagonal(identity_matrix, node_degree_array)\n",
    "    print(identity_matrix)\n",
    "    return identity_matrix\n",
    "'''\n",
    "deg_k5 = generate_degree_matrix(k_5)\n",
    "deg_k53 = generate_degree_matrix(k_5_3)\n",
    "deg_k53e = generate_degree_matrix(k_5_3e)\n",
    "deg_b23 = generate_degree_matrix(b_2_3)\n",
    "deg_s5 = generate_degree_matrix(s_5)\n",
    "deg_p5 = generate_degree_matrix(p_5)\n",
    "'''\n",
    "\n",
    "degree_matrices = [generate_degree_matrix(g) for g in graphs]"
   ]
  },
  {
   "cell_type": "markdown",
   "metadata": {},
   "source": [
    "**Exercise 3**: Generating the graph Laplacian matrix L for a given adjacency matrix A and its degree matrix D. Write a script that generates the graph Laplacian matrix L = D - A for each of the adjacency matrices in Exercise 1."
   ]
  },
  {
   "cell_type": "code",
   "execution_count": 5,
   "metadata": {},
   "outputs": [
    {
     "name": "stdout",
     "output_type": "stream",
     "text": [
      "[[ 4 -1 -1 -1 -1]\n",
      " [-1  4 -1 -1 -1]\n",
      " [-1 -1  4 -1 -1]\n",
      " [-1 -1 -1  4 -1]\n",
      " [-1 -1 -1 -1  4]]\n",
      "[[ 4 -1 -1 -1 -1  0  0  0]\n",
      " [-1  4 -1 -1 -1  0  0  0]\n",
      " [-1 -1  4 -1 -1  0  0  0]\n",
      " [-1 -1 -1  4 -1  0  0  0]\n",
      " [-1 -1 -1 -1  4  0  0  0]\n",
      " [ 0  0  0  0  0  2 -1 -1]\n",
      " [ 0  0  0  0  0 -1  2 -1]\n",
      " [ 0  0  0  0  0 -1 -1  2]]\n",
      "[[ 4 -1 -1 -1 -1  0  0  0]\n",
      " [-1  5 -1 -1 -1  0 -1  0]\n",
      " [-1 -1  4 -1 -1  0  0  0]\n",
      " [-1 -1 -1  4 -1  0  0  0]\n",
      " [-1 -1 -1 -1  4  0  0  0]\n",
      " [ 0  0  0  0  0  2 -1 -1]\n",
      " [ 0 -1  0  0  0 -1  3 -1]\n",
      " [ 0  0  0  0  0 -1 -1  2]]\n",
      "[[ 3  0 -1 -1 -1]\n",
      " [ 0  3 -1 -1 -1]\n",
      " [-1 -1  2  0  0]\n",
      " [-1 -1  0  2  0]\n",
      " [-1 -1  0  0  2]]\n",
      "[[ 5 -1 -1 -1 -1 -1]\n",
      " [-1  1  0  0  0  0]\n",
      " [-1  0  1  0  0  0]\n",
      " [-1  0  0  1  0  0]\n",
      " [-1  0  0  0  1  0]\n",
      " [-1  0  0  0  0  1]]\n",
      "[[ 1 -1  0  0  0]\n",
      " [-1  2 -1  0  0]\n",
      " [ 0 -1  2 -1  0]\n",
      " [ 0  0 -1  2 -1]\n",
      " [ 0  0  0 -1  1]]\n"
     ]
    }
   ],
   "source": [
    "def laplacian_matrix(graph):\n",
    "    temp = nx.laplacian_matrix(graph).todense()\n",
    "    print(temp)\n",
    "    return temp\n",
    "\n",
    "laplacian_matrices = [laplacian_matrix(g) for g in graphs]"
   ]
  },
  {
   "cell_type": "markdown",
   "metadata": {},
   "source": [
    "Answer the following questions:\n",
    "1. Is L a sparse matrix?\n",
    "2. In what positions does L have non-zero elements?\n",
    "3. What are the values of the non-diagonal and non-zero elements?\n",
    "4. What does L contain along its diagonal?\n",
    "\n"
   ]
  },
  {
   "cell_type": "markdown",
   "metadata": {},
   "source": [
    "**Answers**:\n",
    "1. No. L is not a sparse matrix.\n",
    "2. Diagonal, and positions where there was an edge in corresponding adjacency matrix\n",
    "3. Negative\n",
    "4. Degrees of vertices"
   ]
  },
  {
   "cell_type": "markdown",
   "metadata": {},
   "source": [
    "**Exercise 4**: Generating the graph spectrum, or the multiset of the eigenvalues of the graph adjacency matrix A. Write a script that calculates the eigenvalues of the graph adjacency matrix for each of the matrices in Exercise 1. Plot the eigenvalues in the increasing order of their values"
   ]
  },
  {
   "cell_type": "code",
   "execution_count": 6,
   "metadata": {},
   "outputs": [
    {
     "name": "stdout",
     "output_type": "stream",
     "text": [
      "[-1.0, -1.0, -1.0, -1.0, 4.0]\n",
      "[-1.0, -1.0, -1.0, -1.0, -1.0, -1.0, 2.0, 4.0]\n",
      "[-1.7798700000000001, -1.0, -1.0, -1.0, -1.0, -0.33659, 2.0549200000000001, 4.0615300000000003]\n",
      "[-2.4494899999999999, 0.0, 0.0, 0.0, 2.4494899999999999]\n",
      "[-2.2360699999999998, 0.0, 0.0, 0.0, 0.0, 2.2360699999999998]\n",
      "[-1.7320500000000001, -1.0, -0.0, 1.0, 1.7320500000000001]\n"
     ]
    }
   ],
   "source": [
    "def generate_eigenvalues_adj(graph):\n",
    "    eigen_adj = nx.adjacency_spectrum(graph)\n",
    "    eigen_adj_rounded = [round(x,5) for x in eigen_adj.real]\n",
    "    eigen_adj_rounded.sort()\n",
    "    print(eigen_adj_rounded)\n",
    "    return eigen_adj_rounded\n",
    "\n",
    "eigenvalues_adjcency = [generate_eigenvalues_adj(g) for g in graphs]"
   ]
  },
  {
   "cell_type": "markdown",
   "metadata": {},
   "source": [
    "Answer the following questions:\n",
    "1. What can you say about the eigenvalues of the complete graph (K5): the number of unique eigenvalues, the largest and the smallest eigenvalues, the multiplicity (how many times the same eigenvalue appears) of each eigenvalue?\n",
    "2. What is the graph spectrum of the bi-partite graph, B2.3? If n1 = n and n2 = m (a general complete bi-partite graph), then what can you say about its graph spectrum? [Hint: check sqrt(n * m)] If \\lambda is the eigenvalue of the bi-partite graph, will minus \\lambda be also the eigenvalue?\n",
    "3. What is the largest eigenvalue of the star graph S5? If S5 were generalized to an N-vertex star, what could you say about the value of its largest eigenvalue?\n",
    "4. What is the largest eigenvalue of the path graph P5? As the length of the path increases, what can you say about the changes in the largest eigenvalue?\n",
    "5. How does the largest eigenvalue of the path P5 (or its more generalization to an arbitrary length) compare with the largest eigenvalues of the star graph or the complete graph? If you are asked to sort the largest eigenvalue of the path, the star, and the clique) in the increasing order, what kind of relationship would you assign (E.g., \\lambda{path} > or < than \\lambda{star})?\n"
   ]
  },
  {
   "cell_type": "markdown",
   "metadata": {},
   "source": [
    "**Answers**:\n",
    "\n",
    "1. Excluding the largest eigenvalue, which equals to +4.0, other 4 eigenvalues equal to -1.0.\n",
    "2. The extreme eigenvalues equal to *sqrt(n * m)*, and differ in sign. The rest of the values are zero. If \\lambda is the eigenvalue of the bi-partite graph, minus \\lambda be also an eigenvalue.\n",
    "3. The largest eigenvalue for the star graph *S5* is 2.236, which is *sqrt(5)*. Generalizing for an N-vertex star, we can say that largest eigenvalue = *sqrt(N)*.\n",
    "4. The largest eigenvalue for the path graph *P5* is 1.732, which is *sqrt(3)*. That *'3'* accounts for the nodes in-between the path (excluding the extreme nodes from path or considering nodes with degree 2 = N-2). Hence, as the path length would increase, so would the largest eigenvalue.\n",
    "5. \\lambda{path} < \\lambda{star} < \\lambda{clique} for the same number of nodes N."
   ]
  },
  {
   "cell_type": "markdown",
   "metadata": {},
   "source": [
    "**Exercise 5**: Generating the graph spectrum, or the multiset of the eigenvalues of the graph Laplacian. Write a script that calculates the eigenvalues of the graph Laplacian for each of the graphs in Exercise 1. Plot the eigenvalues in the increasing order of their values. "
   ]
  },
  {
   "cell_type": "code",
   "execution_count": 7,
   "metadata": {},
   "outputs": [
    {
     "name": "stdout",
     "output_type": "stream",
     "text": [
      "[-0.0, 5.0, 5.0, 5.0, 5.0]\n",
      "[-0.0, -0.0, 3.0, 3.0, 5.0, 5.0, 5.0, 5.0]\n",
      "[0.0, 0.37380000000000002, 3.0, 3.4848599999999998, 5.0, 5.0, 5.0, 6.1413399999999996]\n",
      "[-0.0, 2.0, 2.0, 3.0, 5.0]\n",
      "[-0.0, 1.0, 1.0, 1.0, 1.0, 6.0]\n",
      "[0.0, 0.38196999999999998, 1.3819699999999999, 2.6180300000000001, 3.6180300000000001]\n"
     ]
    }
   ],
   "source": [
    "def generate_eigenvalues_laplacian(graph):\n",
    "    eigen_lapl = nx.laplacian_spectrum(graph)\n",
    "    eigen_lapl_rounded = [round(x,5) for x in eigen_lapl.real]\n",
    "    eigen_lapl_rounded.sort()\n",
    "    print(eigen_lapl_rounded)\n",
    "    return eigen_lapl_rounded\n",
    "\n",
    "eigenvalues_laplacian = [generate_eigenvalues_laplacian(g) for g in graphs]"
   ]
  },
  {
   "cell_type": "markdown",
   "metadata": {},
   "source": [
    "Answer the following questions:\n",
    "1. What can you say about the largest and the smallest eigenvalues?\n",
    "2. What is the multiplicity (how many times the same eigenvalue appears) of the zero eigenvalue for each of the cases?\n",
    "3. If K53 graph would be generalized to include c>2 components, what can you say about the multiplicity of the zero eigenvalues?\n",
    "4. If graph G is connected (i.e., the number of disconnected components is one), what can you say about the multiplicity of the zero eigenvalue?\n",
    "5. For the bi-partite graph, what is the value of the second smallest eigenvalue?\n",
    "6. Is the vector, whose components consist of 1's only, the eigenvector of the Laplacian? If it is, then what is its corresponding eigenvalue?\n",
    "7. Suppose the graph Laplacian matrix has the zero eigenvalue of multiplicity k. Can you say anything about the structure of such a graph?\n"
   ]
  },
  {
   "cell_type": "markdown",
   "metadata": {},
   "source": [
    "**Answers:**\n",
    "\n",
    "1. Smallest eigenvalues are approximately zero. I do not observe a pattern in largest eigenvalues.\n",
    "2. Except for the second graph, which is a graph with two disconnected components, cliques of sizes 5 and 3, for every other graph, the multiplicity of zero eigenvalues is one.\n",
    "3. In such a case, the multiplicity of zero eigenvalues would be equal to number of disconnected components present in the graph.\n",
    "4. If the graph is connected, the multiplicity of zero eigenvalues is one.\n",
    "5. For the bi-partite graph, the second smallest eigenvalue is 3.0\n",
    "6. \n",
    "7. Such a graph has k- disconnected components."
   ]
  },
  {
   "cell_type": "code",
   "execution_count": null,
   "metadata": {
    "collapsed": true
   },
   "outputs": [],
   "source": []
  }
 ],
 "metadata": {
  "anaconda-cloud": {},
  "kernelspec": {
   "display_name": "Python [default]",
   "language": "python",
   "name": "python3"
  },
  "language_info": {
   "codemirror_mode": {
    "name": "ipython",
    "version": 3
   },
   "file_extension": ".py",
   "mimetype": "text/x-python",
   "name": "python",
   "nbconvert_exporter": "python",
   "pygments_lexer": "ipython3",
   "version": "3.5.3"
  }
 },
 "nbformat": 4,
 "nbformat_minor": 1
}
