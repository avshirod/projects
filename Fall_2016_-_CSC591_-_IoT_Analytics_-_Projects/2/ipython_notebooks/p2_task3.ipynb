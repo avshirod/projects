{
 "cells": [
  {
   "cell_type": "markdown",
   "metadata": {},
   "source": [
    "## Project 2 - Task 3 (IoTA Fall 2016)\n",
    "### Multiple Regression Analysis\n",
    "#### student_id : *avshirod*"
   ]
  },
  {
   "cell_type": "code",
   "execution_count": 5,
   "metadata": {
    "collapsed": true
   },
   "outputs": [],
   "source": [
    "# Required Imports\n",
    "import csv\n",
    "import pandas as pd\n",
    "import matplotlib.pyplot as plt\n",
    "import numpy as np\n",
    "import statsmodels.formula.api as smf\n",
    "import statsmodels.api as sm\n",
    "from sklearn import linear_model\n",
    "import scipy.stats as stats\n",
    "import os"
   ]
  },
  {
   "cell_type": "code",
   "execution_count": 6,
   "metadata": {
    "collapsed": true
   },
   "outputs": [],
   "source": [
    "filename = 'p2.csv'\n",
    "data = pd.read_csv(filename)\n",
    "header = list(data.columns.values)\n",
    "\n",
    "dirpath = os.getcwd() + \"/task3\"\n",
    "res_filename = dirpath + \"/task3.txt\"\n",
    "plot_path = dirpath + \"/plots\"\n",
    "\n",
    "# op = open(res_filename, 'w')\n",
    "# op.write(\"Y \\t Intercept (a0) \\t s^2 (a0) \\t p_val (a0) \\t X_i (a1) \\t s^2 (a1) \\t p_val (a1) \\t R^2 \\t F value \\t p_val (F) \\n\")"
   ]
  },
  {
   "cell_type": "code",
   "execution_count": 7,
   "metadata": {
    "collapsed": false
   },
   "outputs": [
    {
     "name": "stdout",
     "output_type": "stream",
     "text": [
      "                            OLS Regression Results                            \n",
      "==============================================================================\n",
      "Dep. Variable:                      Y   R-squared:                       0.825\n",
      "Model:                            OLS   Adj. R-squared:                  0.823\n",
      "Method:                 Least Squares   F-statistic:                     465.5\n",
      "Date:                Wed, 19 Oct 2016   Prob (F-statistic):          2.63e-184\n",
      "Time:                        22:59:08   Log-Likelihood:                -2402.1\n",
      "No. Observations:                 500   AIC:                             4816.\n",
      "Df Residuals:                     494   BIC:                             4842.\n",
      "Df Model:                           5                                         \n",
      "Covariance Type:            nonrobust                                         \n",
      "==============================================================================\n",
      "                 coef    std err          t      P>|t|      [95.0% Conf. Int.]\n",
      "------------------------------------------------------------------------------\n",
      "const         -5.3677      7.132     -0.753      0.452       -19.381     8.645\n",
      "X1             0.1510      0.008     19.842      0.000         0.136     0.166\n",
      "X2             4.1849      1.265      3.307      0.001         1.699     6.671\n",
      "X3            25.4115     16.071      1.581      0.114        -6.164    56.987\n",
      "X4             1.3949      0.562      2.483      0.013         0.291     2.499\n",
      "X5             8.4857      0.592     14.325      0.000         7.322     9.650\n",
      "==============================================================================\n",
      "Omnibus:                        0.375   Durbin-Watson:                   2.121\n",
      "Prob(Omnibus):                  0.829   Jarque-Bera (JB):                0.432\n",
      "Skew:                           0.064   Prob(JB):                        0.806\n",
      "Kurtosis:                       2.933   Cond. No.                     7.30e+03\n",
      "==============================================================================\n",
      "\n",
      "Warnings:\n",
      "[1] Standard Errors assume that the covariance matrix of the errors is correctly specified.\n",
      "[2] The condition number is large, 7.3e+03. This might indicate that there are\n",
      "strong multicollinearity or other numerical problems.\n"
     ]
    }
   ],
   "source": [
    "# Multiple regression on all independent variables: Y ~ X1, X2, X3, X4, X5\n",
    "y = data[['Y']]\n",
    "x = data[header[:-1]]\n",
    "x = sm.add_constant(x)\n",
    "model1 = sm.OLS(y,x).fit()\n",
    "print(model1.summary())"
   ]
  },
  {
   "cell_type": "markdown",
   "metadata": {},
   "source": [
    "From the above regression results,\n",
    "\n",
    "By looking at p-values of the dependent variables, we observe that:\n",
    "\n",
    "Except **X3** *(p-value : 0.114 >> 0.05)*, every other variable has a **p-value < 0.05**.\n",
    "\n",
    "Hence, we'll test out a model without X3 in it in next step."
   ]
  },
  {
   "cell_type": "code",
   "execution_count": 20,
   "metadata": {
    "collapsed": false
   },
   "outputs": [
    {
     "name": "stdout",
     "output_type": "stream",
     "text": [
      "                            OLS Regression Results                            \n",
      "==============================================================================\n",
      "Dep. Variable:                      Y   R-squared:                       0.824\n",
      "Model:                            OLS   Adj. R-squared:                  0.823\n",
      "Method:                 Least Squares   F-statistic:                     579.5\n",
      "Date:                Wed, 19 Oct 2016   Prob (F-statistic):          3.57e-185\n",
      "Time:                        23:10:41   Log-Likelihood:                -2403.4\n",
      "No. Observations:                 500   AIC:                             4817.\n",
      "Df Residuals:                     495   BIC:                             4838.\n",
      "Df Model:                           4                                         \n",
      "Covariance Type:            nonrobust                                         \n",
      "==============================================================================\n",
      "                 coef    std err          t      P>|t|      [95.0% Conf. Int.]\n",
      "------------------------------------------------------------------------------\n",
      "const         -1.6108      6.735     -0.239      0.811       -14.843    11.622\n",
      "X1             0.1501      0.008     19.749      0.000         0.135     0.165\n",
      "X2             3.9362      1.258      3.130      0.002         1.465     6.407\n",
      "X4             1.2878      0.558      2.306      0.022         0.190     2.385\n",
      "X5             8.4851      0.593     14.302      0.000         7.319     9.651\n",
      "==============================================================================\n",
      "Omnibus:                        0.654   Durbin-Watson:                   2.132\n",
      "Prob(Omnibus):                  0.721   Jarque-Bera (JB):                0.652\n",
      "Skew:                           0.087   Prob(JB):                        0.722\n",
      "Kurtosis:                       2.973   Cond. No.                     3.06e+03\n",
      "==============================================================================\n",
      "\n",
      "Warnings:\n",
      "[1] Standard Errors assume that the covariance matrix of the errors is correctly specified.\n",
      "[2] The condition number is large, 3.06e+03. This might indicate that there are\n",
      "strong multicollinearity or other numerical problems.\n"
     ]
    }
   ],
   "source": [
    "# Multiple regression on independent variables without X3: Y ~ X1, X2, X4, X5\n",
    "y = data[['Y']]\n",
    "x1245 = data[['X1', 'X2', 'X4', 'X5']]\n",
    "x1245 = sm.add_constant(x1245)\n",
    "model2 = sm.OLS(y,x1245).fit()\n",
    "print(model2.summary())"
   ]
  },
  {
   "cell_type": "markdown",
   "metadata": {},
   "source": [
    "Above results seem normal, and the *p-values* are well below the threshold.\n",
    "\n",
    "Let's take a look at the correlation matrix."
   ]
  },
  {
   "cell_type": "code",
   "execution_count": 11,
   "metadata": {
    "collapsed": false
   },
   "outputs": [
    {
     "name": "stdout",
     "output_type": "stream",
     "text": [
      "          X1        X2        X3        X4        X5         Y\n",
      "X1  1.000000 -0.014324 -0.113998 -0.009826  0.748331  0.864453\n",
      "X2 -0.014324  1.000000 -0.045013 -0.792724 -0.024899  0.022098\n",
      "X3 -0.113998 -0.045013  1.000000 -0.034855 -0.087973 -0.077394\n",
      "X4 -0.009826 -0.792724 -0.034855  1.000000  0.018821 -0.003260\n",
      "X5  0.748331 -0.024899 -0.087973  0.018821  1.000000  0.826421\n",
      "Y   0.864453  0.022098 -0.077394 -0.003260  0.826421  1.000000\n",
      "\n",
      "Correlation Matrix with Significant Correlation\n",
      "          X1        X2   X3        X4        X5         Y\n",
      "X1  1.000000       NaN  NaN       NaN  0.748331  0.864453\n",
      "X2       NaN  1.000000  NaN -0.792724       NaN       NaN\n",
      "X3       NaN       NaN  1.0       NaN       NaN       NaN\n",
      "X4       NaN -0.792724  NaN  1.000000       NaN       NaN\n",
      "X5  0.748331       NaN  NaN       NaN  1.000000  0.826421\n",
      "Y   0.864453       NaN  NaN       NaN  0.826421  1.000000\n"
     ]
    }
   ],
   "source": [
    "# Correlation matrix\n",
    "corr_mat = pd.DataFrame.corr(data, method='pearson')\n",
    "print(corr_mat)\n",
    "print(\"\\nCorrelation Matrix with Significant Correlation\")\n",
    "print(corr_mat[abs(corr_mat) > 0.5])"
   ]
  },
  {
   "cell_type": "markdown",
   "metadata": {},
   "source": [
    "Looking at the correlation matrix, we observe that there is high positive correlation between **X1** and **X5**, and a high negative correlation between **X2** and **X4**."
   ]
  },
  {
   "cell_type": "markdown",
   "metadata": {
    "collapsed": true
   },
   "source": [
    "###### Decide which independent variables should be left out\n",
    "\n",
    "Based on above matrix, we should leave out one independent variable out of **X1** and **X5**, and one from **X2** and **X4**.\n",
    "\n",
    "As **Y** observes high correlation with **X1** and **X2** (over **X5** and **X4** resp), we choose to keep those two and compare results with previous analysis."
   ]
  },
  {
   "cell_type": "code",
   "execution_count": 35,
   "metadata": {
    "collapsed": false
   },
   "outputs": [
    {
     "name": "stdout",
     "output_type": "stream",
     "text": [
      "                            OLS Regression Results                            \n",
      "==============================================================================\n",
      "Dep. Variable:                      Y   R-squared:                       0.748\n",
      "Model:                            OLS   Adj. R-squared:                  0.747\n",
      "Method:                 Least Squares   F-statistic:                     739.4\n",
      "Date:                Wed, 19 Oct 2016   Prob (F-statistic):          1.12e-149\n",
      "Time:                        23:18:35   Log-Likelihood:                -2492.7\n",
      "No. Observations:                 500   AIC:                             4991.\n",
      "Df Residuals:                     497   BIC:                             5004.\n",
      "Df Model:                           2                                         \n",
      "Covariance Type:            nonrobust                                         \n",
      "==============================================================================\n",
      "                 coef    std err          t      P>|t|      [95.0% Conf. Int.]\n",
      "------------------------------------------------------------------------------\n",
      "const         -9.5217      4.810     -1.979      0.048       -18.972    -0.071\n",
      "X1             0.2309      0.006     38.444      0.000         0.219     0.243\n",
      "X2             1.4011      0.914      1.533      0.126        -0.395     3.197\n",
      "==============================================================================\n",
      "Omnibus:                        9.903   Durbin-Watson:                   2.046\n",
      "Prob(Omnibus):                  0.007   Jarque-Bera (JB):                9.907\n",
      "Skew:                           0.333   Prob(JB):                      0.00706\n",
      "Kurtosis:                       3.179   Cond. No.                     1.82e+03\n",
      "==============================================================================\n",
      "\n",
      "Warnings:\n",
      "[1] Standard Errors assume that the covariance matrix of the errors is correctly specified.\n",
      "[2] The condition number is large, 1.82e+03. This might indicate that there are\n",
      "strong multicollinearity or other numerical problems.\n"
     ]
    }
   ],
   "source": [
    "# Multiple regression on independent variables without X3, X4, X5: Y ~ X1, X2\n",
    "y = data[['Y']]\n",
    "x12 = data[['X1', 'X2']]\n",
    "x12 = sm.add_constant(x12)\n",
    "# model3 = smf.ols('Y ~ X1 + X2', data = data).fit()\n",
    "model3 = sm.OLS(y,x12).fit()\n",
    "print(model3.summary())"
   ]
  },
  {
   "cell_type": "markdown",
   "metadata": {},
   "source": [
    "The above model (with **X1** and **X2**) does not improve the model.\n",
    "\n",
    "After experimenting around with various combinations (X1 and X4, X1 and X5, X2 and X5), we observe that having **X1** and **X5** in the model gives the best results."
   ]
  },
  {
   "cell_type": "code",
   "execution_count": 53,
   "metadata": {
    "collapsed": false
   },
   "outputs": [
    {
     "name": "stdout",
     "output_type": "stream",
     "text": [
      "                            OLS Regression Results                            \n",
      "==============================================================================\n",
      "Dep. Variable:                      Y   R-squared:                       0.821\n",
      "Model:                            OLS   Adj. R-squared:                  0.820\n",
      "Method:                 Least Squares   F-statistic:                     1136.\n",
      "Date:                Wed, 19 Oct 2016   Prob (F-statistic):          4.16e-186\n",
      "Time:                        23:25:34   Log-Likelihood:                -2408.3\n",
      "No. Observations:                 500   AIC:                             4823.\n",
      "Df Residuals:                     497   BIC:                             4835.\n",
      "Df Model:                           2                                         \n",
      "Covariance Type:            nonrobust                                         \n",
      "==============================================================================\n",
      "                 coef    std err          t      P>|t|      [95.0% Conf. Int.]\n",
      "------------------------------------------------------------------------------\n",
      "const         16.1094      3.352      4.806      0.000         9.524    22.695\n",
      "X1             0.1493      0.008     19.517      0.000         0.134     0.164\n",
      "X5             8.5086      0.597     14.242      0.000         7.335     9.682\n",
      "==============================================================================\n",
      "Omnibus:                        0.435   Durbin-Watson:                   2.107\n",
      "Prob(Omnibus):                  0.804   Jarque-Bera (JB):                0.489\n",
      "Skew:                           0.069   Prob(JB):                        0.783\n",
      "Kurtosis:                       2.935   Cond. No.                     1.49e+03\n",
      "==============================================================================\n",
      "\n",
      "Warnings:\n",
      "[1] Standard Errors assume that the covariance matrix of the errors is correctly specified.\n",
      "[2] The condition number is large, 1.49e+03. This might indicate that there are\n",
      "strong multicollinearity or other numerical problems.\n",
      "Y = 16.10941112258829 + 0.14928051698706746 * X1 + 8.508615510418855 * X5\n",
      "sigma^2 = 4989.674114548346\n",
      "R^2 = 0.8205263168551592\n",
      "F-value = 1136.1041137934014\n"
     ]
    }
   ],
   "source": [
    "y = data[['Y']]\n",
    "x15 = data[['X1','X5']]\n",
    "x15 = sm.add_constant(x15)\n",
    "model_final = sm.OLS(y,x15).fit()\n",
    "print(model_final.summary())\n",
    "\n",
    "print(\"/nY = {} + {} * {} + {} * {}\".format(model_final.params[0], model_final.params[1], 'X1', model_final.params[2], 'X5'))\n",
    "print(\"sigma^2 = {}\".format(model_final.mse_total))\n",
    "print(\"R^2 = {}\".format(model_final.rsquared))\n",
    "print(\"F-value = {}\".format(model_final.fvalue))"
   ]
  },
  {
   "cell_type": "markdown",
   "metadata": {},
   "source": [
    "##### Multiple Regression Analysis Results\n",
    "\n",
    "Even though both **X1** and **X5** have a certain positive correlation, having them both gives best results over other possible combinations of variables.\n",
    "\n",
    "- p-value\n",
    "\n",
    "The p-value for both variables are 0.00, hence they affect the prediction of **Y**.\n",
    "\n",
    "- R^2 value\n",
    "\n",
    "Both **R^2** and **Adj R^2** values are higher than other combinations of variables.\n",
    "An **R^2** value *> 0.8* indicates a good fit.\n",
    "\n",
    "- F value\n",
    "\n",
    "The p-value for the F-test is negligible (close to zero). Hence, the null hypothesis for F-test, that coefficients of the predictor variables are zero is false."
   ]
  },
  {
   "cell_type": "code",
   "execution_count": 55,
   "metadata": {
    "collapsed": true
   },
   "outputs": [],
   "source": [
    "import matplotlib.mlab as mlab\n",
    "import math\n",
    "\n",
    "def normal_plot(std_err = 1):\n",
    "    mu = 0\n",
    "    variance = std_err\n",
    "    sigma = math.sqrt(variance)\n",
    "    x = np.linspace(-3, 3, 100)\n",
    "    plt.plot(x,mlab.normpdf(x, mu, sigma))\n",
    "    plt.show()"
   ]
  },
  {
   "cell_type": "code",
   "execution_count": 62,
   "metadata": {
    "collapsed": false
   },
   "outputs": [
    {
     "data": {
      "text/plain": [
       "<matplotlib.figure.Figure at 0x21bd98c32e8>"
      ]
     },
     "metadata": {},
     "output_type": "display_data"
    },
    {
     "data": {
      "image/png": "[encoded data removed]",
      "text/plain": [
       "<matplotlib.figure.Figure at 0x21bd97ada20>"
      ]
     },
     "metadata": {},
     "output_type": "display_data"
    }
   ],
   "source": [
    "# Q-Q Plot of residuals\n",
    "result = model_final\n",
    "residuals = result.resid_pearson\n",
    "# normal_plot()\n",
    "qqp = sm.qqplot(residuals, loc=0)\n",
    "# fig_path_qqplot = plot_path + \"/qqplot_\" + val\n",
    "# plt.xlabel(str(val))\n",
    "plt.ylabel(\"Y\")\n",
    "plt.title(\"QQ Plot for Residuals\")\n",
    "plt.show()\n",
    "# plt.savefig(fig_path_qqplot)\n",
    "# plt.gcf().clear()"
   ]
  },
  {
   "cell_type": "markdown",
   "metadata": {},
   "source": [
    "Q-Q plot for residuals is a line, indicating that the residuals are normally distributed."
   ]
  },
  {
   "cell_type": "code",
   "execution_count": 63,
   "metadata": {
    "collapsed": false
   },
   "outputs": [
    {
     "data": {
      "image/png": "[encoded data removed]",
      "text/plain": [
       "<matplotlib.figure.Figure at 0x21bd9933588>"
      ]
     },
     "metadata": {},
     "output_type": "display_data"
    }
   ],
   "source": [
    "# Histogram of Residuals\n",
    "plt.hist(list(residuals))\n",
    "# fig_path_histres = dirpath + \"/plots/histres_\" + val\n",
    "# plt.xlabel(str(val))\n",
    "plt.ylabel(\"Y\")\n",
    "# plt.title(\"Histogram for Residuals of \" + str(val))\n",
    "# plt.savefig(fig_path_histres)\n",
    "plt.show()\n",
    "plt.gcf().clear()"
   ]
  },
  {
   "cell_type": "markdown",
   "metadata": {},
   "source": [
    "The histogram for residuals again shows that the residuals are normally distributed around zero (mean = zero), and some small random variance."
   ]
  },
  {
   "cell_type": "code",
   "execution_count": 64,
   "metadata": {
    "collapsed": false
   },
   "outputs": [
    {
     "name": "stdout",
     "output_type": "stream",
     "text": [
      "Power_divergenceResult(statistic=-1.4348006505148308e+18, pvalue=1.0)\n"
     ]
    }
   ],
   "source": [
    "# Chi-square for Residuals\n",
    "chires = stats.chisquare(residuals)\n",
    "print(chires)"
   ]
  },
  {
   "cell_type": "code",
   "execution_count": 75,
   "metadata": {
    "collapsed": false
   },
   "outputs": [
    {
     "data": {
      "image/png": "[encoded data removed]",
      "text/plain": [
       "<matplotlib.figure.Figure at 0x21bdab95b38>"
      ]
     },
     "metadata": {},
     "output_type": "display_data"
    }
   ],
   "source": [
    "# Scatter plot of residuals\n",
    "'''\n",
    "for val in ['X1', 'X5']:\n",
    "    x1 = data[[val]]\n",
    "    plt.scatter(list(x1.values.flatten()), list(y.values.flatten()), residuals)\n",
    "    # fig_path_scatres = dirpath + \"/plots/scatres_\" + val\n",
    "    plt.xlabel(str(val))\n",
    "    plt.ylabel(\"Y\")\n",
    "    plt.title(\"ScatterPlot for Residuals of \" + str(val))\n",
    "    # plt.savefig(fig_path_scatres)\n",
    "    plt.show()\n",
    "    plt.gcf().clear()\n",
    "'''\n",
    "\n",
    "plt.scatter(list(y.values.flatten()),residuals)\n",
    "plt.title(\"ScatterPlot for Residuals of Y\")\n",
    "plt.xlabel(\"Y\")\n",
    "plt.ylabel(\"Residuals\")\n",
    "plt.show()"
   ]
  },
  {
   "cell_type": "markdown",
   "metadata": {},
   "source": [
    "From the above scatterplots,\n",
    "you can see that there is not observable pattern for the residuals of the model.\n",
    "\n",
    "Hence we say that the model fits the given data well, aka Model is Good."
   ]
  },
  {
   "cell_type": "markdown",
   "metadata": {},
   "source": [
    "## Conclusion\n",
    "\n",
    "For the given data, a polynomial model with independent variables **X1** and **X5** gives the best results.\n",
    "\n",
    "The statistics for the above combination (R^2, F-value, p-value) back this conclusion.\n",
    "\n",
    "The graphical analysis of the result and residual analysis also prove the same."
   ]
  }
 ],
 "metadata": {
  "anaconda-cloud": {},
  "kernelspec": {
   "display_name": "Python [conda root]",
   "language": "python",
   "name": "conda-root-py"
  },
  "language_info": {
   "codemirror_mode": {
    "name": "ipython",
    "version": 3
   },
   "file_extension": ".py",
   "mimetype": "text/x-python",
   "name": "python",
   "nbconvert_exporter": "python",
   "pygments_lexer": "ipython3",
   "version": "3.5.2"
  }
 },
 "nbformat": 4,
 "nbformat_minor": 1
}
